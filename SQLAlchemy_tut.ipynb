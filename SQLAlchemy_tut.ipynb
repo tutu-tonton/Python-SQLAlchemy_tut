{
  "nbformat": 4,
  "nbformat_minor": 0,
  "metadata": {
    "colab": {
      "name": "SQLAlchemy_tut.ipynb",
      "provenance": [],
      "mount_file_id": "1O2jPyfqvDcZqAg4lWI46b-qcQeVO72HT",
      "authorship_tag": "ABX9TyMn+fYdkEK4FBKAvaWmQsec",
      "include_colab_link": true
    },
    "kernelspec": {
      "name": "python3",
      "display_name": "Python 3"
    },
    "language_info": {
      "name": "python"
    }
  },
  "cells": [
    {
      "cell_type": "markdown",
      "metadata": {
        "id": "view-in-github",
        "colab_type": "text"
      },
      "source": [
        "<a href=\"https://colab.research.google.com/github/tutu-tonton/Python-SQLAlchemy_tut/blob/main/SQLAlchemy_tut.ipynb\" target=\"_parent\"><img src=\"https://colab.research.google.com/assets/colab-badge.svg\" alt=\"Open In Colab\"/></a>"
      ]
    },
    {
      "cell_type": "code",
      "metadata": {
        "id": "8meWrOz_rg4o"
      },
      "source": [
        "from sqlalchemy import create_engine\n",
        "from sqlalchemy.orm import scoped_session, sessionmaker\n",
        "from sqlalchemy.ext.declarative import declarative_base"
      ],
      "execution_count": 1,
      "outputs": []
    },
    {
      "cell_type": "code",
      "metadata": {
        "id": "NDvZtQr_r_bf"
      },
      "source": [
        "import pandas as pd\n",
        "import os"
      ],
      "execution_count": 2,
      "outputs": []
    },
    {
      "cell_type": "code",
      "metadata": {
        "id": "LfGTrdg6sC2A"
      },
      "source": [
        "database_file = os.path.join(os.path.abspath(os.getcwd()), 'data.db')"
      ],
      "execution_count": 3,
      "outputs": []
    },
    {
      "cell_type": "code",
      "metadata": {
        "id": "EbObmkJGsLlT"
      },
      "source": [
        "database_file"
      ],
      "execution_count": null,
      "outputs": []
    },
    {
      "cell_type": "code",
      "metadata": {
        "id": "z3PKzKG3sOXA"
      },
      "source": [
        "engine = create_engine('sqlite:///' + database_file, convert_unicode=True, echo=True)"
      ],
      "execution_count": null,
      "outputs": []
    },
    {
      "cell_type": "code",
      "metadata": {
        "id": "fdEK7V-Qt0BZ"
      },
      "source": [
        "db_session = scoped_session(\n",
        "    sessionmaker(\n",
        "        autocommit = False,\n",
        "        autoflush = False,\n",
        "        bind = engine\n",
        "    )\n",
        ")"
      ],
      "execution_count": 6,
      "outputs": []
    },
    {
      "cell_type": "code",
      "metadata": {
        "id": "AkgdtOMPu8Oy"
      },
      "source": [
        "Base = declarative_base()\n",
        "Base.query = db_session.query_property()"
      ],
      "execution_count": 7,
      "outputs": []
    },
    {
      "cell_type": "code",
      "metadata": {
        "id": "uMNX_5Hlvc_Q"
      },
      "source": [
        "from sqlalchemy import Column, Integer, Float"
      ],
      "execution_count": 8,
      "outputs": []
    },
    {
      "cell_type": "code",
      "metadata": {
        "id": "VF6SFFZP54id"
      },
      "source": [
        "class Wine(Base):\n",
        "  __tablename__ = 'wine_class'\n",
        "  id = Column(Integer, primary_key=True)\n",
        "  wine_class = Column(Integer, unique=False)\n",
        "  alcohol = Column(Float, unique=False)\n",
        "  ash = Column(Float, unique=False)\n",
        "  hue = Column(Float, unique=False)\n",
        "  proline = Column(Integer, unique=False)\n",
        "\n",
        "  def __init__(self, wine_class=None, alcohol=None, ash=None, hue=None, proline=None):\n",
        "    self.wine_class = wine_class\n",
        "    self.alcohol = alcohol\n",
        "    self.ash = ash\n",
        "    self.hue = hue\n",
        "    self.proline = proline"
      ],
      "execution_count": 9,
      "outputs": []
    },
    {
      "cell_type": "code",
      "metadata": {
        "colab": {
          "base_uri": "https://localhost:8080/"
        },
        "id": "vV5GcPNivN6z",
        "outputId": "ae306d07-8349-48bb-9515-1b23a10deb02"
      },
      "source": [
        "Base.metadata.create_all(bind=engine)"
      ],
      "execution_count": 10,
      "outputs": [
        {
          "output_type": "stream",
          "name": "stdout",
          "text": [
            "2021-11-07 06:49:35,677 INFO sqlalchemy.engine.Engine BEGIN (implicit)\n",
            "2021-11-07 06:49:35,680 INFO sqlalchemy.engine.Engine PRAGMA main.table_info(\"wine_class\")\n",
            "2021-11-07 06:49:35,682 INFO sqlalchemy.engine.Engine [raw sql] ()\n",
            "2021-11-07 06:49:35,685 INFO sqlalchemy.engine.Engine COMMIT\n"
          ]
        }
      ]
    },
    {
      "cell_type": "code",
      "metadata": {
        "id": "06Ml__IcA6Am"
      },
      "source": [
        "def read_data():\n",
        "  wine_df = pd.read_csv('/content/drive/MyDrive/wine_class.csv')\n",
        "\n",
        "  for index, _df in wine_df.iterrows():\n",
        "    row = Wine(wine_class=_df['Class'], alcohol=_df['Alcohol'], ash=_df['Ash'], hue=_df['Hue'], proline=_df['Proline'])\n",
        "    db_session.add(row)\n",
        "    db_session.commit()"
      ],
      "execution_count": 11,
      "outputs": []
    },
    {
      "cell_type": "code",
      "metadata": {
        "id": "0PQT8a-WCpIx"
      },
      "source": [
        "read_data()"
      ],
      "execution_count": null,
      "outputs": []
    },
    {
      "cell_type": "markdown",
      "metadata": {
        "id": "IYLJYiLqKZO2"
      },
      "source": [
        "==================== ここまで準備 ===================="
      ]
    },
    {
      "cell_type": "markdown",
      "metadata": {
        "id": "EfvjPbK6MkXZ"
      },
      "source": [
        "## 全データ取得"
      ]
    },
    {
      "cell_type": "code",
      "metadata": {
        "id": "XArFNRTRJ9Ef"
      },
      "source": [
        "db = db_session.query(Wine).all()"
      ],
      "execution_count": null,
      "outputs": []
    },
    {
      "cell_type": "code",
      "metadata": {
        "id": "YdcRY2mxC4Io"
      },
      "source": [
        "for row in db:\n",
        "  print(row.alcohol)"
      ],
      "execution_count": null,
      "outputs": []
    },
    {
      "cell_type": "markdown",
      "metadata": {
        "id": "J_3V7l1eMr6_"
      },
      "source": [
        " ## 一部カラムのみ取得"
      ]
    },
    {
      "cell_type": "code",
      "metadata": {
        "id": "sJ-FAuARLR1w"
      },
      "source": [
        "db = db_session.query(Wine.hue, Wine.proline).all()"
      ],
      "execution_count": null,
      "outputs": []
    },
    {
      "cell_type": "code",
      "metadata": {
        "id": "etbq6fmTMJDI"
      },
      "source": [
        "for row in db:\n",
        "  print(row.proline)"
      ],
      "execution_count": null,
      "outputs": []
    },
    {
      "cell_type": "markdown",
      "metadata": {
        "id": "0ufFW1X5NZAL"
      },
      "source": [
        "## 条件抽出"
      ]
    },
    {
      "cell_type": "code",
      "metadata": {
        "id": "V_5pc9SZMM7t"
      },
      "source": [
        "db = db_session.query(Wine).filter(Wine.hue > 1.0).all()"
      ],
      "execution_count": null,
      "outputs": []
    },
    {
      "cell_type": "code",
      "metadata": {
        "id": "dE5FG2xvN0Zz"
      },
      "source": [
        "for row in db:\n",
        "  print(row.hue)"
      ],
      "execution_count": null,
      "outputs": []
    },
    {
      "cell_type": "markdown",
      "metadata": {
        "id": "IxdwUlCGOFz0"
      },
      "source": [
        "## 取得レコード件数制限"
      ]
    },
    {
      "cell_type": "code",
      "metadata": {
        "id": "uwvg7QLyN6JZ"
      },
      "source": [
        "db = db_session.query(Wine).limit(20).all()"
      ],
      "execution_count": null,
      "outputs": []
    },
    {
      "cell_type": "code",
      "metadata": {
        "id": "MKvSCV7BOYEY"
      },
      "source": [
        "for row in db:\n",
        "  print(row.hue)"
      ],
      "execution_count": null,
      "outputs": []
    },
    {
      "cell_type": "markdown",
      "metadata": {
        "id": "Uv4TJJGCOw8z"
      },
      "source": [
        "## レコード並べ替え"
      ]
    },
    {
      "cell_type": "code",
      "metadata": {
        "id": "L8ABV3ggOhcN"
      },
      "source": [
        "from sqlalchemy import desc"
      ],
      "execution_count": 23,
      "outputs": []
    },
    {
      "cell_type": "code",
      "metadata": {
        "colab": {
          "base_uri": "https://localhost:8080/"
        },
        "id": "gTLx3QvKO4-a",
        "outputId": "01780149-849e-4ef1-fe00-5c2d812c4d7c"
      },
      "source": [
        "db = db_session.query(Wine).order_by(desc(Wine.hue)).limit(5).all()\n",
        "\n",
        "for row in db:\n",
        "  print(row.hue)"
      ],
      "execution_count": 25,
      "outputs": [
        {
          "output_type": "stream",
          "name": "stdout",
          "text": [
            "2021-11-07 07:12:04,029 INFO sqlalchemy.engine.Engine SELECT wine_class.id AS wine_class_id, wine_class.wine_class AS wine_class_wine_class, wine_class.alcohol AS wine_class_alcohol, wine_class.ash AS wine_class_ash, wine_class.hue AS wine_class_hue, wine_class.proline AS wine_class_proline \n",
            "FROM wine_class ORDER BY wine_class.hue DESC\n",
            " LIMIT ? OFFSET ?\n",
            "2021-11-07 07:12:04,032 INFO sqlalchemy.engine.Engine [generated in 0.00278s] (5, 0)\n",
            "1.71\n",
            "1.71\n",
            "1.45\n",
            "1.45\n",
            "1.42\n"
          ]
        }
      ]
    },
    {
      "cell_type": "markdown",
      "metadata": {
        "id": "eOj0U9hiQOub"
      },
      "source": [
        "## 新規データ追加"
      ]
    },
    {
      "cell_type": "code",
      "metadata": {
        "colab": {
          "base_uri": "https://localhost:8080/"
        },
        "id": "u2SRgbD3PSaY",
        "outputId": "a52c4102-0863-453e-ae2a-209413af78e5"
      },
      "source": [
        "new_wine = Wine(wine_class=1, alcohol=1, ash=1, hue=1, proline=1)\n",
        "\n",
        "db_session.add(new_wine)\n",
        "db_session.commit()"
      ],
      "execution_count": 26,
      "outputs": [
        {
          "output_type": "stream",
          "name": "stdout",
          "text": [
            "2021-11-07 07:15:22,733 INFO sqlalchemy.engine.Engine INSERT INTO wine_class (wine_class, alcohol, ash, hue, proline) VALUES (?, ?, ?, ?, ?)\n",
            "2021-11-07 07:15:22,735 INFO sqlalchemy.engine.Engine [generated in 0.00297s] (1, 1.0, 1.0, 1.0, 1)\n",
            "2021-11-07 07:15:22,740 INFO sqlalchemy.engine.Engine COMMIT\n"
          ]
        }
      ]
    },
    {
      "cell_type": "code",
      "metadata": {
        "colab": {
          "base_uri": "https://localhost:8080/"
        },
        "id": "RSPXen1_QG4O",
        "outputId": "3d586447-f555-4e7d-c624-14ed1a0062b9"
      },
      "source": [
        "db = db_session.query(Wine).filter(Wine.proline == 1).all()\n",
        "\n",
        "for row in db:\n",
        "  print(row.id, row.wine_class, row.alcohol, row.ash, row.hue, row.proline)"
      ],
      "execution_count": 29,
      "outputs": [
        {
          "output_type": "stream",
          "name": "stdout",
          "text": [
            "2021-11-07 07:19:50,091 INFO sqlalchemy.engine.Engine SELECT wine_class.id AS wine_class_id, wine_class.wine_class AS wine_class_wine_class, wine_class.alcohol AS wine_class_alcohol, wine_class.ash AS wine_class_ash, wine_class.hue AS wine_class_hue, wine_class.proline AS wine_class_proline \n",
            "FROM wine_class \n",
            "WHERE wine_class.proline = ?\n",
            "2021-11-07 07:19:50,095 INFO sqlalchemy.engine.Engine [cached since 115.7s ago] (1,)\n",
            "357 1 1.0 1.0 1.0 1\n"
          ]
        }
      ]
    },
    {
      "cell_type": "markdown",
      "metadata": {
        "id": "K1c57pgiRi5H"
      },
      "source": [
        "## データ更新"
      ]
    },
    {
      "cell_type": "code",
      "metadata": {
        "id": "fgucKQ6lQsB7"
      },
      "source": [
        "db = db_session.query(Wine).filter(Wine.proline == 1).first()"
      ],
      "execution_count": null,
      "outputs": []
    },
    {
      "cell_type": "code",
      "metadata": {
        "id": "s3vc-Ap8RvGa"
      },
      "source": [
        "db.wine_class = 10"
      ],
      "execution_count": 31,
      "outputs": []
    },
    {
      "cell_type": "code",
      "metadata": {
        "colab": {
          "base_uri": "https://localhost:8080/"
        },
        "id": "cDtMyV7GRz-I",
        "outputId": "af228318-f023-4935-8a2f-f266da87b551"
      },
      "source": [
        "db_session.commit()"
      ],
      "execution_count": 33,
      "outputs": [
        {
          "output_type": "stream",
          "name": "stdout",
          "text": [
            "2021-11-07 07:23:12,822 INFO sqlalchemy.engine.Engine UPDATE wine_class SET wine_class=? WHERE wine_class.id = ?\n",
            "2021-11-07 07:23:12,830 INFO sqlalchemy.engine.Engine [generated in 0.00897s] (10, 357)\n",
            "2021-11-07 07:23:12,834 INFO sqlalchemy.engine.Engine COMMIT\n"
          ]
        }
      ]
    },
    {
      "cell_type": "markdown",
      "metadata": {
        "id": "JvsUoaGvSGHd"
      },
      "source": [
        "## データ削除"
      ]
    },
    {
      "cell_type": "code",
      "metadata": {
        "id": "uMw73AMMR1_0"
      },
      "source": [
        "db = db_session.query(Wine).filter(Wine.proline == 1).delete()"
      ],
      "execution_count": null,
      "outputs": []
    }
  ]
}